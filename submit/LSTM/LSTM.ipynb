{
  "nbformat": 4,
  "nbformat_minor": 0,
  "metadata": {
    "kernelspec": {
      "display_name": "Python 3",
      "language": "python",
      "name": "python3"
    },
    "language_info": {
      "codemirror_mode": {
        "name": "ipython",
        "version": 3
      },
      "file_extension": ".py",
      "mimetype": "text/x-python",
      "name": "python",
      "nbconvert_exporter": "python",
      "pygments_lexer": "ipython3",
      "version": "3.7.4"
    },
    "colab": {
      "provenance": []
    },
    "gpuClass": "standard"
  },
  "cells": [
    {
      "cell_type": "markdown",
      "source": [
        "LSTM"
      ],
      "metadata": {
        "id": "cbvN_zhuFCbQ"
      }
    },
    {
      "cell_type": "markdown",
      "source": [
        "Import packages."
      ],
      "metadata": {
        "id": "DD__8ohVBhjx"
      }
    },
    {
      "cell_type": "code",
      "metadata": {
        "id": "ybs7iymbWbER"
      },
      "source": [
        "import torch\n",
        "import os\n",
        "import csv\n",
        "import random\n",
        "import numpy as np\n",
        "import pandas as pd\n",
        "import torch.nn.functional as F\n",
        "import keras\n",
        "import tensorflow as tf\n",
        "\n",
        "from torch.nn.utils.rnn import pad_sequence\n",
        "from gensim.models import Word2Vec\n",
        "from sklearn.model_selection import train_test_split"
      ],
      "execution_count": 7,
      "outputs": []
    },
    {
      "cell_type": "markdown",
      "source": [
        "Download the dataset and unzip it."
      ],
      "metadata": {
        "id": "6FrO0GquBkN8"
      }
    },
    {
      "cell_type": "code",
      "source": [
        "!gdown 1wdlmKyBxd3_UdwOaNgfwx6mt6DMas6uS\n",
        "!gdown 1E22shQHUmSvqkLPe6qGji4TIYArtOAKf\n",
        "!gdown 141AattP4xJ3fm2n9ZWFh1wvSfwVOl7cT\n",
        "!gdown 1XUa6TMZ_ytk3I_jQRJ0iC7tHQWUAZghw\n",
        "!gdown 1FIMWCzeRN9C6NurXyq4NnnUc5W1DeMDk\n",
        "!gdown 1n4haJzeyPJxPm2ukVBg1sM84CSmJimV8\n",
        "\n",
        "\n",
        "!gdown 1RKM_eyCjuUPG50Kl6azWnkOaPkHObBld\n",
        "!gdown 1IncHTNbn7GJ69tCHzKDRpNPTYKzX7Ias\n",
        "!gdown 1dq2zpR9N0OXtqR-qhQE0ny5H1RT4oOG7\n",
        "!gdown 16Ll_Q041wFe1PSGULeLph3oQSKH6_yNg\n",
        "!gdown 1qhkb3-__1Ubl47Sicsfniy1JtDUXE0Zf"
      ],
      "metadata": {
        "colab": {
          "base_uri": "https://localhost:8080/"
        },
        "id": "BRjym0iYOoPN",
        "outputId": "32af7b85-b12b-4467-ee05-8322d58c874c"
      },
      "execution_count": 8,
      "outputs": [
        {
          "output_type": "stream",
          "name": "stdout",
          "text": [
            "Downloading...\n",
            "From: https://drive.google.com/uc?id=1wdlmKyBxd3_UdwOaNgfwx6mt6DMas6uS\n",
            "To: /content/train_y.csv\n",
            "100% 180k/180k [00:00<00:00, 76.4MB/s]\n",
            "Downloading...\n",
            "From: https://drive.google.com/uc?id=1E22shQHUmSvqkLPe6qGji4TIYArtOAKf\n",
            "To: /content/V_trade.csv\n",
            "100% 7.28M/7.28M [00:00<00:00, 74.8MB/s]\n",
            "Downloading...\n",
            "From: https://drive.google.com/uc?id=141AattP4xJ3fm2n9ZWFh1wvSfwVOl7cT\n",
            "To: /content/V_remit.csv\n",
            "100% 2.80M/2.80M [00:00<00:00, 141MB/s]\n",
            "Downloading...\n",
            "From: https://drive.google.com/uc?id=1XUa6TMZ_ytk3I_jQRJ0iC7tHQWUAZghw\n",
            "To: /content/V_info.csv\n",
            "100% 533k/533k [00:00<00:00, 105MB/s]\n",
            "Downloading...\n",
            "From: https://drive.google.com/uc?id=1FIMWCzeRN9C6NurXyq4NnnUc5W1DeMDk\n",
            "To: /content/V_cons.csv\n",
            "100% 4.96M/4.96M [00:00<00:00, 163MB/s]\n",
            "Downloading...\n",
            "From: https://drive.google.com/uc?id=1n4haJzeyPJxPm2ukVBg1sM84CSmJimV8\n",
            "To: /content/V_cred.csv\n",
            "100% 13.5M/13.5M [00:00<00:00, 180MB/s]\n",
            "Downloading...\n",
            "From: https://drive.google.com/uc?id=1RKM_eyCjuUPG50Kl6azWnkOaPkHObBld\n",
            "To: /content/V_trade_public.csv\n",
            "100% 564k/564k [00:00<00:00, 115MB/s]\n",
            "Downloading...\n",
            "From: https://drive.google.com/uc?id=1IncHTNbn7GJ69tCHzKDRpNPTYKzX7Ias\n",
            "To: /content/V_remit_public.csv\n",
            "100% 216k/216k [00:00<00:00, 84.0MB/s]\n",
            "Downloading...\n",
            "From: https://drive.google.com/uc?id=1dq2zpR9N0OXtqR-qhQE0ny5H1RT4oOG7\n",
            "To: /content/V_info_public.csv\n",
            "100% 39.8k/39.8k [00:00<00:00, 27.1MB/s]\n",
            "Downloading...\n",
            "From: https://drive.google.com/uc?id=16Ll_Q041wFe1PSGULeLph3oQSKH6_yNg\n",
            "To: /content/V_cred_public.csv\n",
            "100% 1.00M/1.00M [00:00<00:00, 109MB/s]\n",
            "Downloading...\n",
            "From: https://drive.google.com/uc?id=1qhkb3-__1Ubl47Sicsfniy1JtDUXE0Zf\n",
            "To: /content/V_cons_public.csv\n",
            "100% 369k/369k [00:00<00:00, 115MB/s]\n"
          ]
        }
      ]
    },
    {
      "cell_type": "markdown",
      "source": [
        "Combine all V_ together"
      ],
      "metadata": {
        "id": "FxOddxufB2dr"
      }
    },
    {
      "cell_type": "code",
      "metadata": {
        "id": "v7PZMBJSWbEk",
        "colab": {
          "base_uri": "https://localhost:8080/"
        },
        "outputId": "4bb88f4c-f5fb-4173-8413-4a56d3841f75"
      },
      "source": [
        "V_cred = pd.read_csv(\"V_cred.csv\", index_col=0) \n",
        "V_info = pd.read_csv(\"V_info.csv\", index_col=0)             \n",
        "V_remit = pd.read_csv(\"V_remit.csv\", index_col=0) \n",
        "V_cons = pd.read_csv(\"V_cons.csv\", index_col=0)             \n",
        "V_trade = pd.read_csv(\"V_trade.csv\", index_col=0) \n",
        "train_y = pd.read_csv(\"train_y.csv\", index_col=0)\n",
        "\n",
        "V_cred_public = pd.read_csv(\"V_cred_public.csv\", index_col=0) \n",
        "V_info_public = pd.read_csv(\"V_info_public.csv\", index_col=0)             \n",
        "V_remit_public = pd.read_csv(\"V_remit_public.csv\", index_col=0) \n",
        "V_cons_public = pd.read_csv(\"V_cons_public.csv\", index_col=0)             \n",
        "V_trade_public = pd.read_csv(\"V_trade_public.csv\", index_col=0) \n",
        "\n",
        "print(V_cred.shape)\n",
        "print(V_info.shape)\n",
        "print(V_remit.shape)\n",
        "print(V_cons.shape)\n",
        "print(V_trade.shape)\n",
        "print(train_y.shape)\n",
        "\n",
        "V_cons.iloc[:,1] = V_cons.iloc[:,1].replace([130], 0)\n",
        "V_cons.iloc[:,2] = V_cons.iloc[:,2].replace([47], 0)\n",
        "\n",
        "V_part = [ pd.concat([V_info, \n",
        "                      V_cred.iloc[:,8*i:8*(i+1)],\n",
        "                      V_remit.iloc[:,3*i:3*(i+1)],\n",
        "                      V_cons.iloc[:,4*i:4*(i+1)],\n",
        "                      V_trade.iloc[:,7*i:7*(i+1)]], axis=1) for i in range (13)]\n",
        "#V_part = [ pd.concat([V_info.iloc[:,[0,2]], \n",
        "#                      V_cred.iloc[:,[8*i+j for j in [0,1,2,6]]],\n",
        "#                      V_remit.iloc[:,[3*i+j for j in [0,2]]],\n",
        "#                      V_cons.iloc[:,[4*i+j for j in [0,3]]],\n",
        "#                      V_trade.iloc[:,[7*i+j for j in [0,2,4,5,6]]]], axis=1) for i in range (13)]\n",
        "V_all = pd.concat([V_part[i] for i in range (13)], axis = 1)\n",
        "V_all = (V_all-V_all.mean())/V_all.std()\n",
        "print(V_all.shape) # put all data together (23906 * 338)\n",
        "\n",
        "V_part_public = [ pd.concat([V_info_public, \n",
        "                      V_cred_public.iloc[:,8*i:8*(i+1)],\n",
        "                      V_remit_public.iloc[:,3*i:3*(i+1)],\n",
        "                      V_cons_public.iloc[:,4*i:4*(i+1)],\n",
        "                      V_trade_public.iloc[:,7*i:7*(i+1)]], axis=1) for i in range (13)]\n",
        "#V_part_public = [ pd.concat([V_info_public.iloc[:,[0,2]], \n",
        "#                      V_cred_public.iloc[:,[8*i+j for j in [0,1,2,6]]],\n",
        "#                      V_remit_public.iloc[:,[3*i+j for j in [0,2]]],\n",
        "#                      V_cons_public.iloc[:,[4*i+j for j in [0,3]]],\n",
        "#                      V_trade_public.iloc[:,[7*i+j for j in [0,2,4,5,6]]]], axis=1) for i in range (13)]\n",
        "V_all_public = pd.concat([V_part_public[i] for i in range (13)], axis = 1)\n",
        "V_all_public = (V_all_public-V_all_public.mean())/V_all_public.std()\n",
        "print(V_all_public.shape) # put all data together (1845 * 338)\n"
      ],
      "execution_count": 9,
      "outputs": [
        {
          "output_type": "stream",
          "name": "stdout",
          "text": [
            "(23906, 104)\n",
            "(23906, 4)\n",
            "(23906, 39)\n",
            "(23906, 52)\n",
            "(23906, 91)\n",
            "(23906, 1)\n",
            "(23906, 338)\n",
            "(1845, 338)\n"
          ]
        }
      ]
    },
    {
      "cell_type": "markdown",
      "source": [
        "oversampling (we modified weights in data instead)"
      ],
      "metadata": {
        "id": "83zpsxWuTf7t"
      }
    },
    {
      "cell_type": "code",
      "source": [
        "'''\n",
        "SAR_idx = []\n",
        "for i in range (len(train_y)):\n",
        "    if (train_y.iloc[i,0] == 1):\n",
        "        SAR_idx.append(i)\n",
        "print(len(SAR_idx), SAR_idx)\n",
        "\n",
        "for i in range (len(SAR_idx)):\n",
        "    if (i % 10 == 0):\n",
        "        print(i, \"/\", len(SAR_idx)) \n",
        "    for j in range (30):\n",
        "        V_all.loc[len(V_all)] = V_all.loc[SAR_idx[i]]\n",
        "        train_y.loc[len(train_y)] = train_y.loc[SAR_idx[i]]\n",
        "'''\n",
        "print(V_all.shape, train_y.shape)"
      ],
      "metadata": {
        "colab": {
          "base_uri": "https://localhost:8080/"
        },
        "id": "oAkJuOXFTfUG",
        "outputId": "f9e316fe-1edd-4c39-debb-2b07bbf94a51"
      },
      "execution_count": 10,
      "outputs": [
        {
          "output_type": "stream",
          "name": "stdout",
          "text": [
            "(23906, 338) (23906, 1)\n"
          ]
        }
      ]
    },
    {
      "cell_type": "markdown",
      "source": [
        "Define model"
      ],
      "metadata": {
        "id": "KForkTfcmgfA"
      }
    },
    {
      "cell_type": "code",
      "source": [
        "model = keras.models.Sequential()\n",
        "model.add(keras.layers.LSTM(units = 32, return_sequences = True,\n",
        "                            input_shape = (13,V_all.shape[1]//13)))\n",
        "model.add(keras.layers.Dropout(0.3))\n",
        "model.add(keras.layers.Dense(32, activation='sigmoid'))\n",
        "model.add(keras.layers.LSTM(units = 32, return_sequences = True))\n",
        "model.add(keras.layers.Dropout(0.3))\n",
        "model.add(keras.layers.Dense(32, activation='sigmoid'))\n",
        "model.add(keras.layers.LSTM(units = 32))\n",
        "model.add(keras.layers.Dropout(0.3))\n",
        "model.add(keras.layers.Dense(1, activation='sigmoid'))\n",
        "model.compile(loss='binary_crossentropy', optimizer='nadam')\n",
        "\n",
        "#model = keras.models.load_model('path/to/location')\n",
        "\n",
        "\n",
        "tempx = np.array(V_all)\n",
        "tempy = np.array(train_y)\n",
        "tempx = np.reshape(tempx, (tempx.shape[0], 13, -1))\n",
        "tempx[np.isnan(tempx)] = 0\n",
        "\n",
        "testx = np.array(V_all_public)\n",
        "testx = np.reshape(testx, (testx.shape[0], 13, -1))\n",
        "testx[np.isnan(testx)] = 0\n"
      ],
      "metadata": {
        "id": "pwjcyQq7VL7u"
      },
      "execution_count": 11,
      "outputs": []
    },
    {
      "cell_type": "markdown",
      "source": [
        "Training"
      ],
      "metadata": {
        "id": "Q9s9tRFBmurF"
      }
    },
    {
      "cell_type": "code",
      "source": [
        "def print_result(model, x, y):\n",
        "    prediction = model.predict(x)\n",
        "    print(prediction, prediction.shape)\n",
        "    result = pd.concat([pd.DataFrame(prediction, columns=[\"prob\"]), pd.DataFrame(y)], axis=1) \n",
        "    result = result.sort_values(by = 'prob')\n",
        "    print(result)\n",
        "    for i in range (len(result)):\n",
        "        if (result.iloc[i,1] == 1):\n",
        "            print(\"The\", i, \"th lowest prediction has SAR with prob\", result.iloc[i,0])\n",
        "\n",
        "import matplotlib.pyplot as plt\n",
        "\n",
        "history = model.fit(tempx, tempy, epochs = 100, batch_size = 32, class_weight = {0:1, 1:100}, validation_split=0.2, shuffle=True)\n",
        "\n",
        "model.save('model.pth')\n",
        "plt.plot(history.history['loss'])\n",
        "plt.plot(history.history['val_loss'])\n",
        "plt.title('loss history')\n",
        "plt.xlabel('epoch')\n",
        "plt.ylabel('loss')\n",
        "plt.legend(['Train', 'Valid'])\n",
        "plt.show()\n",
        " \n",
        "\n",
        "!zip -r model.zip model.pth\n",
        "from google.colab import files\n",
        "files.download(\"model.zip\")\n",
        "\n",
        "prediction = model.predict(testx)"
      ],
      "metadata": {
        "colab": {
          "base_uri": "https://localhost:8080/",
          "height": 1000
        },
        "id": "ZeQcGAotjr3u",
        "outputId": "2e8562aa-0f11-483f-c876-c725c4c8dad7"
      },
      "execution_count": 12,
      "outputs": [
        {
          "output_type": "stream",
          "name": "stdout",
          "text": [
            "Epoch 1/100\n",
            "598/598 [==============================] - 21s 24ms/step - loss: 1.4939 - val_loss: 0.8833\n",
            "Epoch 2/100\n",
            "598/598 [==============================] - 13s 22ms/step - loss: 1.3790 - val_loss: 0.4234\n",
            "Epoch 3/100\n",
            "598/598 [==============================] - 13s 22ms/step - loss: 1.3464 - val_loss: 0.8153\n",
            "Epoch 4/100\n",
            "598/598 [==============================] - 15s 25ms/step - loss: 1.2897 - val_loss: 0.7243\n",
            "Epoch 5/100\n",
            "598/598 [==============================] - 13s 22ms/step - loss: 1.2944 - val_loss: 0.6301\n",
            "Epoch 6/100\n",
            "598/598 [==============================] - 13s 22ms/step - loss: 1.2514 - val_loss: 0.7253\n",
            "Epoch 7/100\n",
            "598/598 [==============================] - 13s 22ms/step - loss: 1.2358 - val_loss: 0.8173\n",
            "Epoch 8/100\n",
            "598/598 [==============================] - 14s 23ms/step - loss: 1.2128 - val_loss: 0.7169\n",
            "Epoch 9/100\n",
            "598/598 [==============================] - 17s 28ms/step - loss: 1.1895 - val_loss: 0.7730\n",
            "Epoch 10/100\n",
            "598/598 [==============================] - 16s 26ms/step - loss: 1.1736 - val_loss: 0.7715\n",
            "Epoch 11/100\n",
            "598/598 [==============================] - 16s 26ms/step - loss: 1.1718 - val_loss: 0.7192\n",
            "Epoch 12/100\n",
            "598/598 [==============================] - 18s 30ms/step - loss: 1.1398 - val_loss: 0.7134\n",
            "Epoch 13/100\n",
            "598/598 [==============================] - 13s 22ms/step - loss: 1.1026 - val_loss: 0.6246\n",
            "Epoch 14/100\n",
            "598/598 [==============================] - 15s 25ms/step - loss: 1.1267 - val_loss: 0.7357\n",
            "Epoch 15/100\n",
            "598/598 [==============================] - 13s 22ms/step - loss: 1.1224 - val_loss: 0.6917\n",
            "Epoch 16/100\n",
            "598/598 [==============================] - 13s 22ms/step - loss: 1.1119 - val_loss: 0.7808\n",
            "Epoch 17/100\n",
            "598/598 [==============================] - 15s 25ms/step - loss: 1.0845 - val_loss: 0.6960\n",
            "Epoch 18/100\n",
            "598/598 [==============================] - 13s 22ms/step - loss: 1.0624 - val_loss: 0.6167\n",
            "Epoch 19/100\n",
            "598/598 [==============================] - 14s 23ms/step - loss: 1.0867 - val_loss: 0.6356\n",
            "Epoch 20/100\n",
            "598/598 [==============================] - 15s 26ms/step - loss: 1.0502 - val_loss: 0.6573\n",
            "Epoch 21/100\n",
            "598/598 [==============================] - 14s 23ms/step - loss: 1.0506 - val_loss: 0.7468\n",
            "Epoch 22/100\n",
            "598/598 [==============================] - 15s 25ms/step - loss: 1.0358 - val_loss: 0.6191\n",
            "Epoch 23/100\n",
            "598/598 [==============================] - 13s 22ms/step - loss: 1.0464 - val_loss: 0.8131\n",
            "Epoch 24/100\n",
            "598/598 [==============================] - 15s 25ms/step - loss: 1.0139 - val_loss: 0.6391\n",
            "Epoch 25/100\n",
            "598/598 [==============================] - 13s 22ms/step - loss: 1.0337 - val_loss: 0.5372\n",
            "Epoch 26/100\n",
            "598/598 [==============================] - 13s 22ms/step - loss: 1.0072 - val_loss: 0.8137\n",
            "Epoch 27/100\n",
            "598/598 [==============================] - 13s 22ms/step - loss: 0.9985 - val_loss: 0.6868\n",
            "Epoch 28/100\n",
            "598/598 [==============================] - 13s 22ms/step - loss: 0.9829 - val_loss: 0.6289\n",
            "Epoch 29/100\n",
            "598/598 [==============================] - 13s 23ms/step - loss: 0.9862 - val_loss: 0.7218\n",
            "Epoch 30/100\n",
            "598/598 [==============================] - 13s 22ms/step - loss: 0.9689 - val_loss: 0.5865\n",
            "Epoch 31/100\n",
            "598/598 [==============================] - 13s 22ms/step - loss: 0.9953 - val_loss: 0.5748\n",
            "Epoch 32/100\n",
            "598/598 [==============================] - 13s 22ms/step - loss: 0.9636 - val_loss: 0.5703\n",
            "Epoch 33/100\n",
            "598/598 [==============================] - 13s 22ms/step - loss: 0.9847 - val_loss: 0.6505\n",
            "Epoch 34/100\n",
            "598/598 [==============================] - 13s 22ms/step - loss: 0.9723 - val_loss: 0.6206\n",
            "Epoch 35/100\n",
            "598/598 [==============================] - 13s 22ms/step - loss: 0.9706 - val_loss: 0.6714\n",
            "Epoch 36/100\n",
            "598/598 [==============================] - 13s 22ms/step - loss: 0.9528 - val_loss: 0.6337\n",
            "Epoch 37/100\n",
            "598/598 [==============================] - 13s 22ms/step - loss: 0.9757 - val_loss: 0.5654\n",
            "Epoch 38/100\n",
            "598/598 [==============================] - 13s 22ms/step - loss: 0.9814 - val_loss: 0.6314\n",
            "Epoch 39/100\n",
            "598/598 [==============================] - 13s 22ms/step - loss: 0.9738 - val_loss: 0.5693\n",
            "Epoch 40/100\n",
            "598/598 [==============================] - 15s 26ms/step - loss: 0.9719 - val_loss: 0.5300\n",
            "Epoch 41/100\n",
            "598/598 [==============================] - 13s 22ms/step - loss: 0.9686 - val_loss: 0.5678\n",
            "Epoch 42/100\n",
            "598/598 [==============================] - 13s 22ms/step - loss: 0.9973 - val_loss: 0.5595\n",
            "Epoch 43/100\n",
            "598/598 [==============================] - 13s 22ms/step - loss: 1.0159 - val_loss: 0.6317\n",
            "Epoch 44/100\n",
            "598/598 [==============================] - 13s 22ms/step - loss: 0.9638 - val_loss: 0.5721\n",
            "Epoch 45/100\n",
            "598/598 [==============================] - 13s 22ms/step - loss: 0.9429 - val_loss: 0.6979\n",
            "Epoch 46/100\n",
            "598/598 [==============================] - 13s 22ms/step - loss: 0.9736 - val_loss: 0.6505\n",
            "Epoch 47/100\n",
            "598/598 [==============================] - 13s 22ms/step - loss: 0.9314 - val_loss: 0.5551\n",
            "Epoch 48/100\n",
            "598/598 [==============================] - 17s 28ms/step - loss: 0.9257 - val_loss: 0.7128\n",
            "Epoch 49/100\n",
            "598/598 [==============================] - 13s 22ms/step - loss: 0.8990 - val_loss: 0.6505\n",
            "Epoch 50/100\n",
            "598/598 [==============================] - 13s 22ms/step - loss: 0.9002 - val_loss: 0.4721\n",
            "Epoch 51/100\n",
            "598/598 [==============================] - 13s 22ms/step - loss: 0.8633 - val_loss: 0.5456\n",
            "Epoch 52/100\n",
            "598/598 [==============================] - 13s 22ms/step - loss: 0.8801 - val_loss: 0.6006\n",
            "Epoch 53/100\n",
            "598/598 [==============================] - 13s 22ms/step - loss: 0.9082 - val_loss: 0.5917\n",
            "Epoch 54/100\n",
            "598/598 [==============================] - 13s 22ms/step - loss: 0.9139 - val_loss: 0.5724\n",
            "Epoch 55/100\n",
            "598/598 [==============================] - 13s 22ms/step - loss: 0.8800 - val_loss: 0.6061\n",
            "Epoch 56/100\n",
            "598/598 [==============================] - 13s 22ms/step - loss: 0.8759 - val_loss: 0.5259\n",
            "Epoch 57/100\n",
            "598/598 [==============================] - 13s 22ms/step - loss: 0.9123 - val_loss: 0.5197\n",
            "Epoch 58/100\n",
            "598/598 [==============================] - 13s 22ms/step - loss: 0.8781 - val_loss: 0.5500\n",
            "Epoch 59/100\n",
            "598/598 [==============================] - 16s 26ms/step - loss: 0.8929 - val_loss: 0.6191\n",
            "Epoch 60/100\n",
            "598/598 [==============================] - 13s 22ms/step - loss: 0.9459 - val_loss: 0.5451\n",
            "Epoch 61/100\n",
            "598/598 [==============================] - 13s 22ms/step - loss: 0.9453 - val_loss: 0.5154\n",
            "Epoch 62/100\n",
            "598/598 [==============================] - 13s 22ms/step - loss: 0.9520 - val_loss: 0.6148\n",
            "Epoch 63/100\n",
            "598/598 [==============================] - 13s 22ms/step - loss: 0.8919 - val_loss: 0.4451\n",
            "Epoch 64/100\n",
            "598/598 [==============================] - 13s 22ms/step - loss: 0.9054 - val_loss: 0.4555\n",
            "Epoch 65/100\n",
            "598/598 [==============================] - 13s 22ms/step - loss: 0.8659 - val_loss: 0.4697\n",
            "Epoch 66/100\n",
            "598/598 [==============================] - 13s 22ms/step - loss: 0.8967 - val_loss: 0.5321\n",
            "Epoch 67/100\n",
            "598/598 [==============================] - 13s 22ms/step - loss: 0.8867 - val_loss: 0.6013\n",
            "Epoch 68/100\n",
            "598/598 [==============================] - 13s 22ms/step - loss: 0.8934 - val_loss: 0.5718\n",
            "Epoch 69/100\n",
            "598/598 [==============================] - 13s 22ms/step - loss: 0.8164 - val_loss: 0.7180\n",
            "Epoch 70/100\n",
            "598/598 [==============================] - 13s 22ms/step - loss: 0.8475 - val_loss: 0.6215\n",
            "Epoch 71/100\n",
            "598/598 [==============================] - 13s 22ms/step - loss: 0.8633 - val_loss: 0.5632\n",
            "Epoch 72/100\n",
            "598/598 [==============================] - 13s 22ms/step - loss: 0.8890 - val_loss: 0.5767\n",
            "Epoch 73/100\n",
            "598/598 [==============================] - 13s 22ms/step - loss: 0.8199 - val_loss: 0.6871\n",
            "Epoch 74/100\n",
            "598/598 [==============================] - 13s 22ms/step - loss: 0.8319 - val_loss: 0.4369\n",
            "Epoch 75/100\n",
            "598/598 [==============================] - 13s 22ms/step - loss: 0.8059 - val_loss: 0.5027\n",
            "Epoch 76/100\n",
            "598/598 [==============================] - 13s 22ms/step - loss: 0.7824 - val_loss: 0.5033\n",
            "Epoch 77/100\n",
            "598/598 [==============================] - 16s 26ms/step - loss: 0.8514 - val_loss: 0.4567\n",
            "Epoch 78/100\n",
            "598/598 [==============================] - 13s 22ms/step - loss: 0.8757 - val_loss: 0.5917\n",
            "Epoch 79/100\n",
            "598/598 [==============================] - 13s 22ms/step - loss: 0.8375 - val_loss: 0.5780\n",
            "Epoch 80/100\n",
            "598/598 [==============================] - 13s 22ms/step - loss: 0.8338 - val_loss: 0.5101\n",
            "Epoch 81/100\n",
            "598/598 [==============================] - 13s 22ms/step - loss: 0.8209 - val_loss: 0.5498\n",
            "Epoch 82/100\n",
            "598/598 [==============================] - 13s 22ms/step - loss: 0.7725 - val_loss: 0.5626\n",
            "Epoch 83/100\n",
            "598/598 [==============================] - 13s 22ms/step - loss: 0.8101 - val_loss: 0.5448\n",
            "Epoch 84/100\n",
            "598/598 [==============================] - 13s 22ms/step - loss: 0.8104 - val_loss: 0.4396\n",
            "Epoch 85/100\n",
            "598/598 [==============================] - 13s 22ms/step - loss: 0.8628 - val_loss: 0.5308\n",
            "Epoch 86/100\n",
            "598/598 [==============================] - 13s 22ms/step - loss: 0.8492 - val_loss: 0.4796\n",
            "Epoch 87/100\n",
            "598/598 [==============================] - 13s 23ms/step - loss: 0.8004 - val_loss: 0.5225\n",
            "Epoch 88/100\n",
            "598/598 [==============================] - 14s 23ms/step - loss: 0.7820 - val_loss: 0.4965\n",
            "Epoch 89/100\n",
            "598/598 [==============================] - 13s 22ms/step - loss: 0.7944 - val_loss: 0.5013\n",
            "Epoch 90/100\n",
            "598/598 [==============================] - 13s 22ms/step - loss: 0.8603 - val_loss: 0.5959\n",
            "Epoch 91/100\n",
            "598/598 [==============================] - 13s 22ms/step - loss: 0.9028 - val_loss: 0.4992\n",
            "Epoch 92/100\n",
            "598/598 [==============================] - 13s 22ms/step - loss: 0.8192 - val_loss: 0.5690\n",
            "Epoch 93/100\n",
            "598/598 [==============================] - 13s 22ms/step - loss: 0.7944 - val_loss: 0.4776\n",
            "Epoch 94/100\n",
            "598/598 [==============================] - 13s 22ms/step - loss: 0.7448 - val_loss: 0.4825\n",
            "Epoch 95/100\n",
            "598/598 [==============================] - 13s 22ms/step - loss: 0.7632 - val_loss: 0.4998\n",
            "Epoch 96/100\n",
            "598/598 [==============================] - 16s 26ms/step - loss: 0.7976 - val_loss: 0.4935\n",
            "Epoch 97/100\n",
            "598/598 [==============================] - 13s 22ms/step - loss: 0.7518 - val_loss: 0.4623\n",
            "Epoch 98/100\n",
            "598/598 [==============================] - 13s 22ms/step - loss: 0.7966 - val_loss: 0.5349\n",
            "Epoch 99/100\n",
            "598/598 [==============================] - 13s 22ms/step - loss: 0.7323 - val_loss: 0.5302\n",
            "Epoch 100/100\n",
            "598/598 [==============================] - 13s 22ms/step - loss: 0.7349 - val_loss: 0.4291\n"
          ]
        },
        {
          "output_type": "stream",
          "name": "stderr",
          "text": [
            "WARNING:absl:Found untraced functions such as lstm_cell_3_layer_call_fn, lstm_cell_3_layer_call_and_return_conditional_losses, lstm_cell_4_layer_call_fn, lstm_cell_4_layer_call_and_return_conditional_losses, lstm_cell_5_layer_call_fn while saving (showing 5 of 6). These functions will not be directly callable after loading.\n"
          ]
        },
        {
          "output_type": "display_data",
          "data": {
            "text/plain": [
              "<Figure size 432x288 with 1 Axes>"
            ],
            "image/png": "[encoded data removed]"
          },
          "metadata": {
            "needs_background": "light"
          }
        },
        {
          "output_type": "stream",
          "name": "stdout",
          "text": [
            "updating: model.pth/ (stored 0%)\n",
            "updating: model.pth/variables/ (stored 0%)\n",
            "updating: model.pth/variables/variables.index (deflated 70%)\n",
            "updating: model.pth/variables/variables.data-00000-of-00001 (deflated 9%)\n",
            "updating: model.pth/saved_model.pb (deflated 91%)\n",
            "updating: model.pth/assets/ (stored 0%)\n",
            "updating: model.pth/keras_metadata.pb (deflated 93%)\n"
          ]
        },
        {
          "output_type": "display_data",
          "data": {
            "text/plain": [
              "<IPython.core.display.Javascript object>"
            ],
            "application/javascript": [
              "\n",
              "    async function download(id, filename, size) {\n",
              "      if (!google.colab.kernel.accessAllowed) {\n",
              "        return;\n",
              "      }\n",
              "      const div = document.createElement('div');\n",
              "      const label = document.createElement('label');\n",
              "      label.textContent = `Downloading \"${filename}\": `;\n",
              "      div.appendChild(label);\n",
              "      const progress = document.createElement('progress');\n",
              "      progress.max = size;\n",
              "      div.appendChild(progress);\n",
              "      document.body.appendChild(div);\n",
              "\n",
              "      const buffers = [];\n",
              "      let downloaded = 0;\n",
              "\n",
              "      const channel = await google.colab.kernel.comms.open(id);\n",
              "      // Send a message to notify the kernel that we're ready.\n",
              "      channel.send({})\n",
              "\n",
              "      for await (const message of channel.messages) {\n",
              "        // Send a message to notify the kernel that we're ready.\n",
              "        channel.send({})\n",
              "        if (message.buffers) {\n",
              "          for (const buffer of message.buffers) {\n",
              "            buffers.push(buffer);\n",
              "            downloaded += buffer.byteLength;\n",
              "            progress.value = downloaded;\n",
              "          }\n",
              "        }\n",
              "      }\n",
              "      const blob = new Blob(buffers, {type: 'application/binary'});\n",
              "      const a = document.createElement('a');\n",
              "      a.href = window.URL.createObjectURL(blob);\n",
              "      a.download = filename;\n",
              "      div.appendChild(a);\n",
              "      a.click();\n",
              "      div.remove();\n",
              "    }\n",
              "  "
            ]
          },
          "metadata": {}
        },
        {
          "output_type": "display_data",
          "data": {
            "text/plain": [
              "<IPython.core.display.Javascript object>"
            ],
            "application/javascript": [
              "download(\"download_17335cba-3f11-494f-bf5b-7e8a551dceda\", \"model.zip\", 515827)"
            ]
          },
          "metadata": {}
        }
      ]
    },
    {
      "cell_type": "markdown",
      "source": [
        "If you want to directly play with model.zip, you can directly run this part"
      ],
      "metadata": {
        "id": "KCP4SBjpw6Cb"
      }
    },
    {
      "cell_type": "code",
      "source": [
        "!unzip model.zip\n",
        "model = keras.models.load_model('model.pth')\n",
        "prediction = model.predict(testx)"
      ],
      "metadata": {
        "colab": {
          "base_uri": "https://localhost:8080/"
        },
        "id": "bxquAopfufA9",
        "outputId": "f8ee85b9-ed39-455f-ca7e-79a762d2ad47"
      },
      "execution_count": 22,
      "outputs": [
        {
          "output_type": "stream",
          "name": "stdout",
          "text": [
            "Archive:  model.zip\n",
            "replace model.pth/variables/variables.index? [y]es, [n]o, [A]ll, [N]one, [r]ename: A\n",
            "  inflating: model.pth/variables/variables.index  \n",
            "  inflating: model.pth/variables/variables.data-00000-of-00001  \n",
            "  inflating: model.pth/saved_model.pb  \n",
            "  inflating: model.pth/keras_metadata.pb  \n",
            "58/58 [==============================] - 2s 7ms/step\n"
          ]
        }
      ]
    }
  ]
}